{
 "cells": [
  {
   "cell_type": "markdown",
   "metadata": {},
   "source": [
    "# 可迭代、迭代器、生成器"
   ]
  },
  {
   "cell_type": "markdown",
   "metadata": {},
   "source": [
    "初学Python的时候，对于这三货真的是傻傻分不清。甚至还认为他们是等价的。\n",
    "\n",
    "其实，他们是不一样的。\n",
    "\n",
    "可迭代的对象，很好理解，我们很熟悉的：字符串，list，dict，tuple，deque\n"
   ]
  },
  {
   "cell_type": "markdown",
   "metadata": {},
   "source": [
    "为了验证我说的，需要借助collections.abc这个模块（Python2没有），使用isinstance()来类别一个对象是否是可迭代的（Iterable），是否是迭代器（Iterator），是否是生成器（Generator）。"
   ]
  },
  {
   "cell_type": "code",
   "execution_count": 1,
   "metadata": {},
   "outputs": [
    {
     "name": "stdout",
     "output_type": "stream",
     "text": [
      "字符串：XiaoMing\n",
      "True\n",
      "False\n",
      "False\n",
      "列表：[21, 23, 32, 19]\n",
      "True\n",
      "False\n",
      "False\n",
      "字典：{'name': '小明', 'gender': '男', 'age': 18}\n",
      "True\n",
      "False\n",
      "False\n",
      "deque：deque(['a', 'b', 'c', 'd', 'e', 'f', 'g'])\n",
      "True\n",
      "False\n",
      "False\n"
     ]
    }
   ],
   "source": [
    "import collections\n",
    "from collections.abc import Iterable, Iterator, Generator\n",
    "\n",
    "# 字符串\n",
    "astr = \"XiaoMing\"\n",
    "print(\"字符串：{}\".format(astr))\n",
    "print(isinstance(astr, Iterable))\n",
    "print(isinstance(astr, Iterator))\n",
    "print(isinstance(astr, Generator))\n",
    "\n",
    "# 列表\n",
    "alist = [21, 23, 32,19]\n",
    "print(\"列表：{}\".format(alist))\n",
    "print(isinstance(alist, Iterable))\n",
    "print(isinstance(alist, Iterator))\n",
    "print(isinstance(alist, Generator))\n",
    "\n",
    "# 字典\n",
    "adict = {\"name\": \"小明\", \"gender\": \"男\", \"age\": 18}\n",
    "print(\"字典：{}\".format(adict))\n",
    "print(isinstance(adict, Iterable))\n",
    "print(isinstance(adict, Iterator))\n",
    "print(isinstance(adict, Generator))\n",
    "\n",
    "# deque\n",
    "adeque=collections.deque('abcdefg')\n",
    "print(\"deque：{}\".format(adeque))\n",
    "print(isinstance(adeque, Iterable))\n",
    "print(isinstance(adeque, Iterator))\n",
    "print(isinstance(adeque, Generator))"
   ]
  },
  {
   "cell_type": "markdown",
   "metadata": {},
   "source": [
    "> 扩展知识:\n",
    "可迭代对象，是其内部实现了，\\__iter__ 这个魔术方法。\n",
    "可以通过，dir()方法来查看是否有\\__iter__来判断一个变量是否是可迭代的。\n"
   ]
  },
  {
   "cell_type": "markdown",
   "metadata": {},
   "source": [
    "接下来是，迭代器。\n",
    "对比 <span class=\"burk\">可迭代对象</span> ，迭代器其实就只是多了一个函数而已。就是\\__next__()，我们可以不再使用for循环来间断获取元素值。而可以直接使用next()方法来实现。"
   ]
  },
  {
   "cell_type": "markdown",
   "metadata": {},
   "source": [
    "迭代器，是在可迭代的基础上实现的。要创建一个迭代器，我们首先，得有一个可迭代对象。\n",
    "现在就来看看，如何创建一个可迭代对象，并以可迭代对象为基础创建一个迭代器。"
   ]
  },
  {
   "cell_type": "code",
   "execution_count": 2,
   "metadata": {},
   "outputs": [
    {
     "name": "stdout",
     "output_type": "stream",
     "text": [
      "True\n",
      "False\n",
      "0\n",
      "1\n",
      "2\n",
      "3\n",
      "4\n",
      "True\n",
      "True\n",
      "0\n",
      "1\n",
      "2\n",
      "3\n",
      "4\n"
     ]
    }
   ],
   "source": [
    "from collections.abc import Iterable, Iterator, Generator\n",
    "\n",
    "class MyList(object):  # 定义可迭代对象类\n",
    "\n",
    "    def __init__(self, num):\n",
    "        self.end = num  # 上边界\n",
    "\n",
    "    # 返回一个实现了__iter__和__next__的迭代器类的实例\n",
    "    def __iter__(self):\n",
    "        return MyListIterator(self.end)\n",
    "\n",
    "\n",
    "class MyListIterator(object):  # 定义迭代器类\n",
    "\n",
    "    def __init__(self, end):\n",
    "        self.data = end  # 上边界\n",
    "        self.start = 0\n",
    "\n",
    "    # 返回该对象的迭代器类的实例；因为自己就是迭代器，所以返回self\n",
    "    def __iter__(self):\n",
    "        return self\n",
    "\n",
    "    # 迭代器类必须实现的方法，若是Python2则是next()函数\n",
    "    def __next__(self):\n",
    "        while self.start < self.data:\n",
    "            self.start += 1\n",
    "            return self.start - 1\n",
    "        raise StopIteration\n",
    "\n",
    "\n",
    "if __name__ == '__main__':\n",
    "    my_list = MyList(5)  # 得到一个可迭代对象\n",
    "    print(isinstance(my_list, Iterable))  # True\n",
    "    print(isinstance(my_list, Iterator))  # False\n",
    "    # 迭代\n",
    "    for i in my_list:\n",
    "        print(i)\n",
    "\n",
    "    my_iterator = iter(my_list)  # 得到一个迭代器\n",
    "    print(isinstance(my_iterator, Iterable))  # True\n",
    "    print(isinstance(my_iterator, Iterator))  # True\n",
    "\n",
    "    # 迭代\n",
    "    print(next(my_iterator))\n",
    "    print(next(my_iterator))\n",
    "    print(next(my_iterator))\n",
    "    print(next(my_iterator))\n",
    "    print(next(my_iterator))"
   ]
  },
  {
   "cell_type": "markdown",
   "metadata": {},
   "source": [
    "> 扩展知识:\n",
    "迭代器，是其内部实现了，__next__ 这个魔术方法。(Python3.x)\n",
    "可以通过，dir()方法来查看是否有__next__来判断一个变量是否是迭代器的。"
   ]
  },
  {
   "cell_type": "markdown",
   "metadata": {},
   "source": [
    "生成器的概念在 Python 2.2 中首次出现，之所以引入生成器，是为了实现一个在计算下一个值时不需要浪费空间的结构。\n",
    "\n",
    "前面我们说，迭代器，是在可迭代的基础上，加了一个<span class=\"burk\">next()</span>方法。\n",
    "而生成器，则是在迭代器的基础上（可以用for循环，可以使用next()），再实现了<span class=\"burk\">yield</span>。\n",
    "\n",
    "yield 是什么东西呢，它相当于我们函数里的return。在每次next()，或者for遍历的时候，都会yield这里将新的值返回回去，并在这里阻塞，等待下一次的调用。正是由于这个机制，才使用生成器在Python编程中大放异彩。<span class=\"burk\">实现节省内存，实现异步编程</span>。"
   ]
  },
  {
   "cell_type": "markdown",
   "metadata": {},
   "source": [
    "如何创建一个生成器，主要有如下两种方法\n",
    "* 使用列表生成式"
   ]
  },
  {
   "cell_type": "code",
   "execution_count": 6,
   "metadata": {},
   "outputs": [
    {
     "name": "stdout",
     "output_type": "stream",
     "text": [
      "True\n",
      "0\n",
      "1\n",
      "4\n"
     ]
    }
   ],
   "source": [
    "# 使用列表生成式，注意不是[]，而是()\n",
    "L = (x * x for x in range(10))\n",
    "print(isinstance(L, Generator))  # True\n",
    "print(next(L))\n",
    "print(next(L))\n",
    "print(next(L))"
   ]
  },
  {
   "cell_type": "markdown",
   "metadata": {},
   "source": [
    "* 实现yield的函数"
   ]
  },
  {
   "cell_type": "code",
   "execution_count": 7,
   "metadata": {},
   "outputs": [
    {
     "name": "stdout",
     "output_type": "stream",
     "text": [
      "True\n"
     ]
    }
   ],
   "source": [
    "# 实现了yield的函数\n",
    "def mygen(n):\n",
    "    now = 0\n",
    "    while now < n:\n",
    "        yield now\n",
    "        now += 1\n",
    "\n",
    "if __name__ == '__main__':\n",
    "    gen = mygen(10)\n",
    "    print(isinstance(gen, Generator))  # True"
   ]
  },
  {
   "cell_type": "markdown",
   "metadata": {},
   "source": [
    "<span class=\"mark\">可迭代对象和迭代器，是将所有的值都生成存放在内存中，而生成器则是需要元素才临时生成，节省时间，节省空间</span>"
   ]
  },
  {
   "cell_type": "markdown",
   "metadata": {},
   "source": [
    "# 如何运行/激活生成器"
   ]
  },
  {
   "cell_type": "markdown",
   "metadata": {},
   "source": [
    "由于生成器并不是一次生成所有元素，而是一次一次的执行返回，那么如何刺激生成器执行(或者说激活)呢？\n",
    "\n",
    "激活主要有两个方法\n",
    "* <span class=\"burk\">使用next()</span>\n",
    "* 使用generator.send(None)"
   ]
  },
  {
   "cell_type": "code",
   "execution_count": 8,
   "metadata": {},
   "outputs": [
    {
     "name": "stdout",
     "output_type": "stream",
     "text": [
      "0\n",
      "1\n",
      "2\n",
      "3\n"
     ]
    }
   ],
   "source": [
    "def mygen(n):\n",
    "    now = 0\n",
    "    while now < n:\n",
    "        yield now\n",
    "        now += 1\n",
    "\n",
    "if __name__ == '__main__':\n",
    "    gen = mygen(4)\n",
    "\n",
    "    # 通过交替执行，来说明这两种方法是等价的。\n",
    "    print(gen.send(None))\n",
    "    print(next(gen))\n",
    "    print(gen.send(None))\n",
    "    print(next(gen))"
   ]
  },
  {
   "cell_type": "markdown",
   "metadata": {},
   "source": [
    "# 生成器的执行状态\n",
    "生成器在其生命周期中，会有如下四个状态\n",
    "```\n",
    "GEN_CREATED # 等待开始执行\n",
    "GEN_RUNNING # 解释器正在执行（只有在多线程应用中才能看到这个状态）\n",
    "GEN_SUSPENDED # 在yield表达式处暂停\n",
    "GEN_CLOSED # 执行结束\n",
    "```"
   ]
  },
  {
   "cell_type": "code",
   "execution_count": 9,
   "metadata": {},
   "outputs": [
    {
     "name": "stdout",
     "output_type": "stream",
     "text": [
      "GEN_CREATED\n",
      "0\n",
      "GEN_SUSPENDED\n",
      "1\n",
      "GEN_CLOSED\n"
     ]
    }
   ],
   "source": [
    "from inspect import getgeneratorstate\n",
    "\n",
    "def mygen(n):\n",
    "    now = 0\n",
    "    while now < n:\n",
    "        yield now\n",
    "        now += 1\n",
    "\n",
    "if __name__ == '__main__':\n",
    "    gen = mygen(2)\n",
    "    print(getgeneratorstate(gen))\n",
    "\n",
    "    print(next(gen))\n",
    "    print(getgeneratorstate(gen))\n",
    "\n",
    "    print(next(gen))\n",
    "    gen.close()  # 手动关闭/结束生成器\n",
    "    print(getgeneratorstate(gen))"
   ]
  },
  {
   "cell_type": "markdown",
   "metadata": {},
   "source": [
    "# 生成器的异常处理"
   ]
  },
  {
   "cell_type": "markdown",
   "metadata": {},
   "source": [
    "在生成器工作过程中，若生成器不满足生成元素的条件，就会/应该 抛出异常（StopIteration）。\n",
    "\n",
    "通过列表生成式构建的生成器，其内部已经自动帮我们实现了抛出异常这一步。不信我们来看一下。"
   ]
  },
  {
   "attachments": {
    "image.png": {
     "image/png": "[encoded data removed]"
    }
   },
   "cell_type": "markdown",
   "metadata": {},
   "source": [
    "![image1.png](attachment:image.png)"
   ]
  },
  {
   "cell_type": "markdown",
   "metadata": {},
   "source": [
    "所以我们在自己定义一个生成器的时候，我们也应该在不满足生成元素条件的时候，抛出异常。\n",
    "拿上面的代码来修改一下。"
   ]
  },
  {
   "cell_type": "code",
   "execution_count": 11,
   "metadata": {},
   "outputs": [
    {
     "name": "stderr",
     "output_type": "stream",
     "text": [
      "C:\\Users\\58322\\Miniconda3\\envs\\torch\\lib\\site-packages\\ipykernel_launcher.py:12: DeprecationWarning: generator 'mygen' raised StopIteration\n",
      "  if sys.path[0] == '':\n"
     ]
    },
    {
     "ename": "StopIteration",
     "evalue": "",
     "output_type": "error",
     "traceback": [
      "\u001b[1;31m---------------------------------------------------------------------------\u001b[0m",
      "\u001b[1;31mStopIteration\u001b[0m                             Traceback (most recent call last)",
      "\u001b[1;32m<ipython-input-11-a8a6a57614ea>\u001b[0m in \u001b[0;36m<module>\u001b[1;34m\u001b[0m\n\u001b[0;32m     10\u001b[0m     \u001b[0mnext\u001b[0m\u001b[1;33m(\u001b[0m\u001b[0mgen\u001b[0m\u001b[1;33m)\u001b[0m\u001b[1;33m\u001b[0m\u001b[1;33m\u001b[0m\u001b[0m\n\u001b[0;32m     11\u001b[0m     \u001b[0mnext\u001b[0m\u001b[1;33m(\u001b[0m\u001b[0mgen\u001b[0m\u001b[1;33m)\u001b[0m\u001b[1;33m\u001b[0m\u001b[1;33m\u001b[0m\u001b[0m\n\u001b[1;32m---> 12\u001b[1;33m     \u001b[0mnext\u001b[0m\u001b[1;33m(\u001b[0m\u001b[0mgen\u001b[0m\u001b[1;33m)\u001b[0m\u001b[1;33m\u001b[0m\u001b[1;33m\u001b[0m\u001b[0m\n\u001b[0m",
      "\u001b[1;32m<ipython-input-11-a8a6a57614ea>\u001b[0m in \u001b[0;36mmygen\u001b[1;34m(n)\u001b[0m\n\u001b[0;32m      4\u001b[0m         \u001b[1;32myield\u001b[0m \u001b[0mnow\u001b[0m\u001b[1;33m\u001b[0m\u001b[1;33m\u001b[0m\u001b[0m\n\u001b[0;32m      5\u001b[0m         \u001b[0mnow\u001b[0m \u001b[1;33m+=\u001b[0m \u001b[1;36m1\u001b[0m\u001b[1;33m\u001b[0m\u001b[1;33m\u001b[0m\u001b[0m\n\u001b[1;32m----> 6\u001b[1;33m     \u001b[1;32mraise\u001b[0m \u001b[0mStopIteration\u001b[0m\u001b[1;33m\u001b[0m\u001b[1;33m\u001b[0m\u001b[0m\n\u001b[0m\u001b[0;32m      7\u001b[0m \u001b[1;33m\u001b[0m\u001b[0m\n\u001b[0;32m      8\u001b[0m \u001b[1;32mif\u001b[0m \u001b[0m__name__\u001b[0m \u001b[1;33m==\u001b[0m \u001b[1;34m'__main__'\u001b[0m\u001b[1;33m:\u001b[0m\u001b[1;33m\u001b[0m\u001b[1;33m\u001b[0m\u001b[0m\n",
      "\u001b[1;31mStopIteration\u001b[0m: "
     ]
    }
   ],
   "source": [
    "def mygen(n):\n",
    "    now = 0\n",
    "    while now < n:\n",
    "        yield now\n",
    "        now += 1\n",
    "    raise StopIteration\n",
    "\n",
    "if __name__ == '__main__':\n",
    "    gen = mygen(2)\n",
    "    next(gen)\n",
    "    next(gen)\n",
    "    next(gen)"
   ]
  },
  {
   "cell_type": "markdown",
   "metadata": {},
   "source": [
    "# 从生成器过渡到协程：yield"
   ]
  },
  {
   "cell_type": "markdown",
   "metadata": {},
   "source": [
    "通过上面的介绍，我们知道生成器为我们引入了暂停函数执行（yield）的功能。当有了暂停的功能之后，人们就想能不能在生成器暂停的时候向其发送一点东西（其实上面也有提及：send(None)）。这种向暂停的生成器发送信息的功能通过 PEP 342 进入 Python 2.5 中，并催生了 Python 中协程的诞生。根据 wikipedia 中的定义"
   ]
  },
  {
   "cell_type": "markdown",
   "metadata": {},
   "source": [
    "> 协程是为非抢占式多任务产生子程序的计算机程序组件，协程允许不同入口点在不同位置暂停或开始执行程序。"
   ]
  },
  {
   "cell_type": "markdown",
   "metadata": {},
   "source": [
    "注意从本质上而言，协程并不属于语言中的概念，而是编程模型上的概念。\n",
    "\n",
    "协程和线程，有相似点，多个协程之间和线程一样，只会交叉串行执行；也有不同点，线程之间要频繁进行切换，加锁，解锁，从复杂度和效率来看，和协程相比，这确是一个痛点。协程通过使用 yield 暂停生成器，可以将程序的执行流程交给其他的子程序，从而实现不同子程序的之间的交替执行。\n",
    "\n",
    "下面通过一个简明的演示来看看，如何向生成器中发送消息。"
   ]
  },
  {
   "cell_type": "code",
   "execution_count": 12,
   "metadata": {},
   "outputs": [
    {
     "name": "stdout",
     "output_type": "stream",
     "text": [
      "0\n",
      "2\n",
      "3\n",
      "2\n"
     ]
    }
   ],
   "source": [
    "def jumping_range(N):\n",
    "    index = 0\n",
    "    while index < N:\n",
    "        # 通过send()发送的信息将赋值给jump\n",
    "        jump = yield index\n",
    "        if jump is None:\n",
    "            jump = 1\n",
    "        index += jump\n",
    "\n",
    "if __name__ == '__main__':\n",
    "    itr = jumping_range(5)\n",
    "    print(next(itr))\n",
    "    print(itr.send(2))\n",
    "    print(next(itr))\n",
    "    print(itr.send(-1))"
   ]
  },
  {
   "cell_type": "markdown",
   "metadata": {},
   "source": [
    "# 为何要使用协程\n"
   ]
  },
  {
   "cell_type": "markdown",
   "metadata": {},
   "source": [
    "在开始讲yield from 之前，我想先解决一下这个给很多人带来困惑的问题。\n",
    "\n",
    "举个例子。\n",
    "假如我们做一个爬虫。我们要爬取多个网页，这里简单举例两个网页(两个spider函数)，获取HTML（耗IO耗时），然后再对HTML对行解析取得我们感兴趣的数据。\n",
    "\n",
    "我们的代码结构精简如下：\n",
    "```\n",
    "def spider_01(url):\n",
    "    html = get_html(url)\n",
    "    ...\n",
    "    data = parse_html(html)\n",
    "\n",
    "def spider_02(url):\n",
    "    html = get_html(url)\n",
    "    ...\n",
    "    data = parse_html(html)\n",
    "```\n",
    "我们都知道，get_html()等待返回网页是非常耗IO的，一个网页还好，如果我们爬取的网页数据极其庞大，这个等待时间就非常惊人，是极大的浪费。\n",
    "\n",
    "聪明的程序员，当然会想如果能在get_html()这里暂停一下，不用傻乎乎地去等待网页返回，而是去做别的事。等过段时间再回过头来到刚刚暂停的地方，接收返回的html内容，然后还可以接下去解析parse_html(html)。\n",
    "\n",
    "利用常规的方法，几乎是没办法实现如上我们想要的效果的。所以Python想得很周到，从语言本身给我们实现了这样的功能，这就是yield语法。<span class=\"burk\">可以实现在某一函数中暂停的效果</span>。\n",
    "\n",
    "试着思考一下，假如没有协程，我们要写一个并发程序。可能有以下问题\n",
    "\n",
    "\n",
    "\n",
    "\n",
    "\n",
    "\n",
    "\n",
    "\n",
    "\n",
    "\n",
    "\n",
    "\n",
    "\n",
    "\n",
    "\n",
    "\n"
   ]
  },
  {
   "cell_type": "markdown",
   "metadata": {},
   "source": [
    "yield from 是在Python3.3才出现的语法。所以这个特性在Python2中是没有的。\n",
    "\n",
    "yield from 后面需要加的是可迭代对象，它可以是普通的可迭代对象，也可以是迭代器，甚至是生成器。\n",
    "\n",
    "简单应用：拼接可迭代对象#\n",
    "我们可以用一个使用yield和一个使用yield from的例子来对比看下。\n",
    "\n",
    "使用yield\n"
   ]
  },
  {
   "cell_type": "code",
   "execution_count": 15,
   "metadata": {},
   "outputs": [
    {
     "name": "stdout",
     "output_type": "stream",
     "text": [
      "['A', 'B', 'C', 1, 2, 3, 'name', 'age', 4, 5, 6, 7]\n"
     ]
    }
   ],
   "source": [
    "# 字符串\n",
    "astr='ABC'\n",
    "# 列表\n",
    "alist=[1,2,3]\n",
    "# 字典\n",
    "adict={\"name\":\"wangbm\",\"age\":18}\n",
    "# 生成器\n",
    "agen=(i for i in range(4,8))\n",
    "\n",
    "def gen(*args, **kw):\n",
    "    for item in args:\n",
    "        for i in item:\n",
    "            yield i\n",
    "\n",
    "new_list=gen(astr, alist, adict,agen)\n",
    "print(list(new_list))\n",
    "# ['A', 'B', 'C', 1, 2, 3, 'name', 'age', 4, 5, 6, 7]"
   ]
  },
  {
   "cell_type": "code",
   "execution_count": 16,
   "metadata": {},
   "outputs": [
    {
     "name": "stdout",
     "output_type": "stream",
     "text": [
      "['A', 'B', 'C', 1, 2, 3, 'name', 'age', 4, 5, 6, 7]\n"
     ]
    }
   ],
   "source": [
    "# 字符串\n",
    "astr='ABC'\n",
    "# 列表\n",
    "alist=[1,2,3]\n",
    "# 字典\n",
    "adict={\"name\":\"wangbm\",\"age\":18}\n",
    "# 生成器\n",
    "agen=(i for i in range(4,8))\n",
    "\n",
    "def gen(*args, **kw):\n",
    "    for item in args:\n",
    "        yield from item\n",
    "\n",
    "new_list=gen(astr, alist, adict, agen)\n",
    "print(list(new_list))\n",
    "# ['A', 'B', 'C', 1, 2, 3, 'name', 'age', 4, 5, 6, 7]"
   ]
  },
  {
   "cell_type": "code",
   "execution_count": null,
   "metadata": {},
   "outputs": [],
   "source": []
  }
 ],
 "metadata": {
  "file_extension": ".py",
  "kernelspec": {
   "display_name": "Python 3",
   "language": "python",
   "name": "python3"
  },
  "language_info": {
   "codemirror_mode": {
    "name": "ipython",
    "version": 3
   },
   "file_extension": ".py",
   "mimetype": "text/x-python",
   "name": "python",
   "nbconvert_exporter": "python",
   "pygments_lexer": "ipython3",
   "version": "3.6.7"
  },
  "mimetype": "text/x-python",
  "name": "python",
  "npconvert_exporter": "python",
  "pygments_lexer": "ipython3",
  "toc": {
   "base_numbering": 1,
   "nav_menu": {},
   "number_sections": true,
   "sideBar": true,
   "skip_h1_title": false,
   "title_cell": "Table of Contents",
   "title_sidebar": "Contents",
   "toc_cell": false,
   "toc_position": {},
   "toc_section_display": true,
   "toc_window_display": false
  },
  "version": 3
 },
 "nbformat": 4,
 "nbformat_minor": 2
}
