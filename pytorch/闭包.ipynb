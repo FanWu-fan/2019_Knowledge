{
 "nbformat": 4,
 "nbformat_minor": 2,
 "metadata": {
  "language_info": {
   "name": "python",
   "codemirror_mode": {
    "name": "ipython",
    "version": 3
   },
   "version": "3.6.5"
  },
  "orig_nbformat": 2,
  "file_extension": ".py",
  "mimetype": "text/x-python",
  "name": "python",
  "npconvert_exporter": "python",
  "pygments_lexer": "ipython3",
  "version": 3
 },
 "cells": [
  {
   "cell_type": "markdown",
   "execution_count": null,
   "metadata": {},
   "outputs": [],
   "source": [
    "import torch\n",
    "import torchvision\n",
    "from torch import nn\n"
   ]
  },
  {
   "cell_type": "code",
   "execution_count": 1,
   "metadata": {},
   "outputs": [
    {
     "name": "stdout",
     "output_type": "stream",
     "text": "2 3\n4 5\n"
    }
   ],
   "source": [
    "class Entity:\n",
    "    \"\"\"调用实体来改变实体的位置。\"\"\"\n",
    "\n",
    "    def __init__(self, size, x, y):\n",
    "        self.x, self.y = x, y\n",
    "        self.size = size\n",
    "\n",
    "    def __call__(self, x, y):\n",
    "        '''改变实体的位置'''\n",
    "        self.x, self.y = x, y\n",
    "\n",
    "    def print(self):\n",
    "        print(self.x,self.y)\n",
    "\n",
    "e = Entity(1, 2, 3) # 创建实例\n",
    "e.print() # 2 3 \n",
    "e(4, 5) #实例可以象函数那样执行，并传入x y值，修改对象的x y \n",
    "e.print() # 4 5 "
   ]
  },
  {
   "cell_type": "code",
   "execution_count": 1,
   "metadata": {},
   "outputs": [
    {
     "data": {
      "text/plain": "15"
     },
     "execution_count": 1,
     "metadata": {},
     "output_type": "execute_result"
    }
   ],
   "source": [
    "def adder(x):\n",
    "    def wrapper(y):\n",
    "        return x + y\n",
    "    return wrapper\n",
    "adder5 = adder(5)\n",
    "adder5(10)"
   ]
  },
  {
   "cell_type": "code",
   "execution_count": 2,
   "metadata": {},
   "outputs": [
    {
     "data": {
      "text/plain": "17"
     },
     "execution_count": 2,
     "metadata": {},
     "output_type": "execute_result"
    }
   ],
   "source": [
    "adder5(12)"
   ]
  },
  {
   "cell_type": "markdown",
   "execution_count": null,
   "metadata": {},
   "outputs": [],
   "source": [
    "类可以记录数据(属性)，而函数不行(闭包在某种意义上也是可以的)，利用这种特性可以实现基于类的装饰器，在类里面记录状态，比如，下面这个例子用于记录函数被调用的次数"
   ]
  },
  {
   "cell_type": "code",
   "execution_count": 1,
   "metadata": {},
   "outputs": [
    {
     "name": "stdout",
     "output_type": "stream",
     "text": "10\n"
    }
   ],
   "source": [
    "class Counter:\n",
    "    def __init__(self,func):\n",
    "        self.func = func\n",
    "        self.count = 0\n",
    "    def __call__(self,*args,**kwargs):\n",
    "        self.count += 1\n",
    "        return self.func(*args,**kwargs)\n",
    "@Counter\n",
    "def foo():\n",
    "    pass\n",
    "\n",
    "for i in range(10):\n",
    "    foo()\n",
    "\n",
    "print(foo.count)\n",
    "\n",
    "\n",
    "\n"
   ]
  },
  {
   "cell_type": "code",
   "execution_count": null,
   "metadata": {},
   "outputs": [],
   "source": []
  },
  {
   "source": [
    "import torch\n",
    "from torch import nn \n",
    "m = nn.Linear(20,30)\n",
    "input = torch.randn(128,20)\n",
    "output = m(input)\n",
    "output.size()"
   ],
   "cell_type": "code",
   "outputs": [
    {
     "output_type": "execute_result",
     "data": {
      "text/plain": "torch.Size([128, 30])"
     },
     "metadata": {},
     "execution_count": 6
    }
   ],
   "metadata": {},
   "execution_count": 6
  }
 ]
}