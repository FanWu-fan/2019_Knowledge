{
 "cells": [
  {
   "cell_type": "code",
   "execution_count": 17,
   "metadata": {},
   "outputs": [],
   "source": [
    "import torch\n",
    "from torch import nn \n",
    "import torch.nn.functional as F \n",
    "import torchvision"
   ]
  },
  {
   "cell_type": "markdown",
   "metadata": {},
   "source": [
    "创建未初始化的 **Tensor**,并不代表为0，只是代表随机值  empty"
   ]
  },
  {
   "cell_type": "code",
   "execution_count": 19,
   "metadata": {},
   "outputs": [
    {
     "name": "stdout",
     "output_type": "stream",
     "text": [
      "tensor([[6.9680e-19, 8.6040e-43, 7.1607e-19],\n",
      "        [8.6040e-43, 7.1614e-19, 8.6040e-43],\n",
      "        [7.0752e-19, 8.6040e-43, 7.0754e-19],\n",
      "        [8.6040e-43, 7.0762e-19, 8.6040e-43],\n",
      "        [7.0758e-19, 8.6040e-43, 7.0763e-19]]) <class 'torch.Tensor'>\n",
      "tensor([[8.9082e-39, 6.9796e-39, 9.0919e-39, 9.9184e-39],\n",
      "        [7.3470e-39, 1.0469e-38, 1.0194e-38, 7.3470e-39],\n",
      "        [1.0469e-38, 1.0194e-38, 6.1531e-39, 1.1112e-38]])\n"
     ]
    }
   ],
   "source": [
    "x = torch.empty(5,3)\n",
    "print(x,type(x))\n",
    "x1 = torch.empty(3,4)\n",
    "print(x1)"
   ]
  },
  {
   "cell_type": "markdown",
   "metadata": {},
   "source": [
    "创建一个随机初始化的 Tensor,  rand"
   ]
  },
  {
   "cell_type": "code",
   "execution_count": 12,
   "metadata": {},
   "outputs": [
    {
     "name": "stdout",
     "output_type": "stream",
     "text": [
      "tensor([[0.4027, 0.6367, 0.8025],\n",
      "        [0.6301, 0.3764, 0.9447],\n",
      "        [0.3685, 0.0733, 0.8478],\n",
      "        [0.8935, 0.4022, 0.7204],\n",
      "        [0.3375, 0.4068, 0.9671]])\n"
     ]
    }
   ],
   "source": [
    "x = torch.rand(5,3)\n",
    "print(x)"
   ]
  },
  {
   "cell_type": "markdown",
   "metadata": {},
   "source": [
    "创建全零long型Tensor zeros"
   ]
  },
  {
   "cell_type": "code",
   "execution_count": 13,
   "metadata": {},
   "outputs": [
    {
     "name": "stdout",
     "output_type": "stream",
     "text": [
      "tensor([[0, 0, 0],\n",
      "        [0, 0, 0],\n",
      "        [0, 0, 0],\n",
      "        [0, 0, 0],\n",
      "        [0, 0, 0]])\n"
     ]
    }
   ],
   "source": [
    "x = torch.zeros(5,3,dtype=torch.long)\n",
    "print(x)"
   ]
  },
  {
   "cell_type": "code",
   "execution_count": 14,
   "metadata": {},
   "outputs": [
    {
     "name": "stdout",
     "output_type": "stream",
     "text": [
      "tensor([ 1.0000,  3.2500,  5.5000,  7.7500, 10.0000])\n"
     ]
    }
   ],
   "source": [
    "x = torch.linspace(1,10,5)\n",
    "print(x)"
   ]
  },
  {
   "cell_type": "markdown",
   "metadata": {},
   "source": [
    "### 索引"
   ]
  },
  {
   "cell_type": "markdown",
   "metadata": {},
   "source": [
    "我们可以使用类似 Numpy的索引操作来访问 Tensor的一部分，需要注意的是： **索引出来的结果与原数据共享内存，也即是修改一个，另外一个也会跟着修改**"
   ]
  },
  {
   "cell_type": "code",
   "execution_count": 15,
   "metadata": {},
   "outputs": [
    {
     "name": "stdout",
     "output_type": "stream",
     "text": [
      "tensor([ 1.0000,  3.2500,  5.5000,  7.7500, 10.0000])\n",
      "tensor([ 2.0000,  4.2500,  6.5000,  8.7500, 11.0000])\n",
      "tensor([ 2.0000,  4.2500,  6.5000,  8.7500, 11.0000])\n"
     ]
    }
   ],
   "source": [
    "y = x[0: ]\n",
    "print(y)\n",
    "y +=1\n",
    "print(y)\n",
    "print(x)"
   ]
  },
  {
   "cell_type": "code",
   "execution_count": 16,
   "metadata": {},
   "outputs": [
    {
     "data": {
      "text/plain": [
       "tensor([[0],\n",
       "        [1],\n",
       "        [2],\n",
       "        [3],\n",
       "        [4]])"
      ]
     },
     "execution_count": 16,
     "metadata": {},
     "output_type": "execute_result"
    }
   ],
   "source": [
    "torch.nonzero(y)"
   ]
  },
  {
   "cell_type": "markdown",
   "metadata": {},
   "source": [
    "### 改变形状"
   ]
  },
  {
   "cell_type": "markdown",
   "metadata": {},
   "source": [
    "view() 返回的新的 Tensor与 源 Tensor虽然可能有不同的 size，但是共享 data的，也即是更改其中的一个，另外一个也会跟着改变。(顾名思义，view仅仅是改变了对这个张量的观察角度，内部数据并未改变)。 虽然view返回的 Tensor和 源Tensor是共享 data的，但是仍然是一个新的 Tensor（因为Tensor 除了包含 data外还有一些其他属性），两者的id（内存地址）并不一致。"
   ]
  },
  {
   "cell_type": "markdown",
   "metadata": {},
   "source": [
    "如果想返回一个真正新的副本(即不共享data内存)该怎么办？推荐使用 clone创造一个副本然后再使用 view（）\n"
   ]
  },
  {
   "cell_type": "code",
   "execution_count": 13,
   "metadata": {},
   "outputs": [
    {
     "name": "stdout",
     "output_type": "stream",
     "text": [
      "tensor([[-0.5193, -0.7769, -1.2784,  0.0956,  0.3346],\n",
      "        [-0.2425, -0.8835,  0.2302,  1.5465, -0.9690],\n",
      "        [ 1.3337, -1.3048,  0.3819, -0.1265, -0.9160]])\n",
      "tensor([-0.5193, -0.7769, -1.2784,  0.0956,  0.3346, -0.2425, -0.8835,  0.2302,\n",
      "         1.5465, -0.9690,  1.3337, -1.3048,  0.3819, -0.1265, -0.9160])\n"
     ]
    }
   ],
   "source": [
    "x = torch.randn(3,5)\n",
    "x_cp = x.clone().view(15)\n",
    "print(x)\n",
    "print(x_cp)"
   ]
  },
  {
   "cell_type": "code",
   "execution_count": 14,
   "metadata": {},
   "outputs": [
    {
     "name": "stdout",
     "output_type": "stream",
     "text": [
      "False\n"
     ]
    }
   ],
   "source": [
    "x = torch.tensor([1, 2])\n",
    "y = torch.tensor([3, 4])\n",
    "id_before = id(y)\n",
    "y = y + x\n",
    "print(id(y) == id_before) # False \n"
   ]
  },
  {
   "cell_type": "code",
   "execution_count": 15,
   "metadata": {},
   "outputs": [
    {
     "name": "stdout",
     "output_type": "stream",
     "text": [
      "True\n"
     ]
    }
   ],
   "source": [
    "x = torch.tensor([1, 2])\n",
    "y = torch.tensor([3, 4])\n",
    "id_before = id(y)\n",
    "y[:] = y + x\n",
    "print(id(y) == id_before) # True\n"
   ]
  },
  {
   "cell_type": "markdown",
   "metadata": {},
   "source": [
    "### Tensor 和 Numpy 相互转换"
   ]
  },
  {
   "cell_type": "markdown",
   "metadata": {},
   "source": [
    "我们很容易用 numpy() 和 from_numpy() 将 Tensor 和 Numpy中的数组相互转化。但是需要注意的一点是：**这两个函数产生的 Tensor 和 Numpy中的数组共享相同的内存（所以他们之间转换很快），改变其中一个时另外一个也会改变**。 还有一个常用的将numpy中的 array转换成 tensor 的方法是 torch.tensor,这种方法会进行数据拷贝，返回的 tensor和原来的数据不再共享内存"
   ]
  },
  {
   "cell_type": "code",
   "execution_count": 16,
   "metadata": {},
   "outputs": [
    {
     "name": "stdout",
     "output_type": "stream",
     "text": [
      "tensor([1., 1., 1., 1., 1.]) [1. 1. 1. 1. 1.]\n",
      "tensor([2., 2., 2., 2., 2.]) [2. 2. 2. 2. 2.]\n",
      "tensor([3., 3., 3., 3., 3.]) [3. 3. 3. 3. 3.]\n"
     ]
    }
   ],
   "source": [
    "a = torch.ones(5)\n",
    "b = a.numpy()\n",
    "print(a, b)\n",
    "\n",
    "a += 1\n",
    "print(a, b)\n",
    "b += 1\n",
    "print(a, b)\n"
   ]
  },
  {
   "cell_type": "code",
   "execution_count": 29,
   "metadata": {},
   "outputs": [
    {
     "name": "stdout",
     "output_type": "stream",
     "text": [
      "2300710437152 2300713126600\n",
      "tensor([1., 1., 1., 1., 1.]) [1. 1. 1. 1. 1.]\n",
      "tensor([2., 2., 2., 2., 2.])\n",
      "<memory at 0x00000217AD304AC8>\n"
     ]
    }
   ],
   "source": [
    "a = torch.ones(5)\n",
    "b= a.numpy()\n",
    "print(id(a.data),id(b.data))\n",
    "print(a,b)\n",
    "a += 1\n",
    "print(a.data)\n",
    "print(b.data)"
   ]
  },
  {
   "cell_type": "code",
   "execution_count": 30,
   "metadata": {},
   "outputs": [
    {
     "name": "stdout",
     "output_type": "stream",
     "text": [
      "[1. 1. 1. 1. 1.] tensor([1., 1., 1., 1., 1.], dtype=torch.float64)\n",
      "[2. 2. 2. 2. 2.] tensor([2., 2., 2., 2., 2.], dtype=torch.float64)\n",
      "[3. 3. 3. 3. 3.] tensor([3., 3., 3., 3., 3.], dtype=torch.float64)\n"
     ]
    }
   ],
   "source": [
    "import numpy as np\n",
    "a = np.ones(5)\n",
    "b = torch.from_numpy(a)\n",
    "print(a, b)\n",
    "\n",
    "a += 1\n",
    "print(a, b)\n",
    "b += 1\n",
    "print(a, b)\n",
    "\n",
    "\n"
   ]
  },
  {
   "cell_type": "code",
   "execution_count": 31,
   "metadata": {},
   "outputs": [
    {
     "name": "stdout",
     "output_type": "stream",
     "text": [
      "[4. 4. 4. 4. 4.] tensor([3., 3., 3., 3., 3.], dtype=torch.float64)\n"
     ]
    }
   ],
   "source": [
    "c = torch.tensor(a)\n",
    "a += 1\n",
    "print(a, c)\n"
   ]
  },
  {
   "cell_type": "code",
   "execution_count": null,
   "metadata": {},
   "outputs": [],
   "source": []
  }
 ],
 "metadata": {
  "file_extension": ".py",
  "kernelspec": {
   "display_name": "Python 3",
   "language": "python",
   "name": "python3"
  },
  "language_info": {
   "codemirror_mode": {
    "name": "ipython",
    "version": 3
   },
   "file_extension": ".py",
   "mimetype": "text/x-python",
   "name": "python",
   "nbconvert_exporter": "python",
   "pygments_lexer": "ipython3",
   "version": "3.6.7"
  },
  "mimetype": "text/x-python",
  "name": "python",
  "npconvert_exporter": "python",
  "pygments_lexer": "ipython3",
  "version": 3
 },
 "nbformat": 4,
 "nbformat_minor": 4
}
